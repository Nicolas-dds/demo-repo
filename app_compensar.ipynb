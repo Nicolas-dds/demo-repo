{
  "nbformat": 4,
  "nbformat_minor": 0,
  "metadata": {
    "colab": {
      "provenance": [],
      "authorship_tag": "ABX9TyMpbQj7kEXxkXRCacHmaTOs",
      "include_colab_link": true
    },
    "kernelspec": {
      "name": "python3",
      "display_name": "Python 3"
    },
    "language_info": {
      "name": "python"
    }
  },
  "cells": [
    {
      "cell_type": "markdown",
      "metadata": {
        "id": "view-in-github",
        "colab_type": "text"
      },
      "source": [
        "<a href=\"https://colab.research.google.com/github/Nicolas-dds/demo-repo/blob/main/app_compensar.ipynb\" target=\"_parent\"><img src=\"https://colab.research.google.com/assets/colab-badge.svg\" alt=\"Open In Colab\"/></a>"
      ]
    },
    {
      "cell_type": "code",
      "execution_count": null,
      "metadata": {
        "id": "E3GRu0wqEFZP"
      },
      "outputs": [],
      "source": [
        "import streamlit as st\n",
        "import auxiliar as aux\n",
        "\n",
        "st.set_page_config(\n",
        "    page_title=\"Compensar Demo: scoring crediticio\"\n",
        ")"
      ]
    }
  ]
}