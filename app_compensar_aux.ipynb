{
  "nbformat": 4,
  "nbformat_minor": 0,
  "metadata": {
    "colab": {
      "provenance": []
    },
    "kernelspec": {
      "name": "python3",
      "display_name": "Python 3"
    },
    "language_info": {
      "name": "python"
    }
  },
  "cells": [
    {
      "cell_type": "code",
      "execution_count": null,
      "metadata": {
        "id": "SkpLr4Rs9HIY"
      },
      "outputs": [],
      "source": [
        "import cv2\n",
        "import numpy as np\n",
        "from tensorflow import keras\n",
        "import streamlit as st\n",
        "import pandas as pd\n",
        "import requests\n",
        "import pickle\n",
        "\n",
        "@st.experimental_singleton()\n",
        "def load_model():\n",
        "    with open(\"model.pkl\", \"rb\") as f:\n",
        "      model = pickle.load(f)\n",
        "    return model\n",
        "\n",
        "\n",
        "def predict(data):\n",
        "    input_arr = np.array([data])\n",
        "    y_pred = st.session_state['model'].predict(input_arr)\n",
        "    y_pred = pd.DataFrame(y_pred, columns=['Si','No'])\n",
        "    y_pred = y_pred * 100\n",
        "    return data, y_pred"
      ]
    }
  ]
}